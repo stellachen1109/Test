{
 "cells": [
  {
   "cell_type": "markdown",
   "metadata": {},
   "source": [
    "# 主題：政治新聞資料分析\n",
    "- 組員：王冠人、萬俊彥、廖品琪\n",
    "- 時間：2019/01/29"
   ]
  },
  {
   "cell_type": "markdown",
   "metadata": {},
   "source": [
    "## 研究目標\n",
    "考量臺灣社會政治冷感的現狀，提供一個較為客觀的資料統整，藉由日常生活中的事件觀察政治人物的網路聲量變化，作為一種參與政治的方式。"
   ]
  },
  {
   "cell_type": "markdown",
   "metadata": {},
   "source": [
    "## 研究方法\n",
    "1. 爬蟲搜尋網路新聞\n",
    "2. 進行資料清理及資料分析\n",
    "4. 視覺化呈現研究結果"
   ]
  },
  {
   "cell_type": "markdown",
   "metadata": {},
   "source": [
    "## 研究內容及結果"
   ]
  },
  {
   "cell_type": "markdown",
   "metadata": {},
   "source": [
    "# Part I 爬蟲"
   ]
  },
  {
   "cell_type": "markdown",
   "metadata": {},
   "source": [
    "- [新頭殼新聞爬蟲](https://github.com/MiccWan/Political-News-Analysis/blob/master/crawler/new_talk_crawler.ipynb)\n",
    "- [自由時報新聞爬蟲](https://github.com/MiccWan/Political-News-Analysis/blob/master/crawler/liberty_times_crawler.ipynb)"
   ]
  },
  {
   "cell_type": "markdown",
   "metadata": {},
   "source": [
    "#  Part II 資料清洗及分析"
   ]
  },
  {
   "cell_type": "code",
   "execution_count": 1,
   "metadata": {},
   "outputs": [],
   "source": [
    "import os\n",
    "import pickle\n",
    "import jieba\n",
    "import operator\n",
    "import statistics\n",
    "import pandas as pd\n",
    "import numpy as np\n",
    "import matplotlib.pyplot as plt\n",
    "import matplotlib.font_manager as font_manager\n",
    "from datetime import datetime\n",
    "from collections import Counter\n",
    "\n",
    "from wordcloud import WordCloud, STOPWORDS, ImageColorGenerator\n",
    "from PIL import Image\n",
    "\n",
    "from modules import *\n",
    "\n",
    "# 載入外部字型\n",
    "font_path = '../tools/msjh.ttc'\n",
    "font = font_manager.FontProperties(fname='../tools/msjh.ttc',\n",
    "                                   weight='bold',\n",
    "                                   style='normal', size=16)"
   ]
  },
  {
   "cell_type": "markdown",
   "metadata": {},
   "source": [
    "### 載入新聞資料"
   ]
  },
  {
   "cell_type": "code",
   "execution_count": 2,
   "metadata": {},
   "outputs": [],
   "source": [
    "# 讀取先前爬好的新頭殼新聞文字稿\n",
    "with open('../crawler/data/new_talk.pkl', 'rb') as f:\n",
    "    data = pickle.load(f)\n",
    "\n",
    "# 將新聞的順序倒序\n",
    "data = data[::-1]\n",
    "\n",
    "# 將新聞的內容彙整成列表\n",
    "contents = [news['content'] for news in data]"
   ]
  },
  {
   "cell_type": "markdown",
   "metadata": {},
   "source": [
    "### 使用 coshow 找出新詞 -> 自定義辭典"
   ]
  },
  {
   "cell_type": "code",
   "execution_count": 3,
   "metadata": {
    "scrolled": true
   },
   "outputs": [
    {
     "name": "stderr",
     "output_type": "stream",
     "text": [
      "Building prefix dict from the default dictionary ...\n",
      "Loading model from cache C:\\Users\\Stella\\AppData\\Local\\Temp\\jieba.cache\n",
      "Loading model cost 0.883 seconds.\n",
      "Prefix dict has been built succesfully.\n"
     ]
    },
    {
     "data": {
      "text/plain": [
       "[('68', 1002),\n",
       " ('蔡英文', 775),\n",
       " ('民進黨', 609),\n",
       " ('對於', 577),\n",
       " ('柯文哲', 547),\n",
       " ('台北市長', 388),\n",
       " ('沒有', 312),\n",
       " ('）日', 279),\n",
       " ('長參選人', 257),\n",
       " ('記者會', 254)]"
      ]
     },
     "execution_count": 3,
     "metadata": {},
     "output_type": "execute_result"
    }
   ],
   "source": [
    "# 用get_coshow把新聞內容前1000篇進行清理與分詞，並統計詞頻\n",
    "get_coshow(contents[:1000])[:10]"
   ]
  },
  {
   "cell_type": "markdown",
   "metadata": {},
   "source": [
    "### 設定繁體中文斷詞、載入自訂辭典、stopwords"
   ]
  },
  {
   "cell_type": "code",
   "execution_count": 4,
   "metadata": {},
   "outputs": [
    {
     "name": "stderr",
     "output_type": "stream",
     "text": [
      "Building prefix dict from C:\\Users\\Stella\\Desktop\\假D槽\\碩一課程\\下學期\\金融科技與文字探勘\\Political-News-Analysis-master\\jieba_data\\dict.txt.big ...\n",
      "Loading model from cache C:\\Users\\Stella\\AppData\\Local\\Temp\\jieba.ue9f15f1f7a27a2a408ab3f5b910b0d6a.cache\n",
      "Loading model cost 1.518 seconds.\n",
      "Prefix dict has been built succesfully.\n"
     ]
    }
   ],
   "source": [
    "# 載入外部辭典與自訂辭典\n",
    "jieba.set_dictionary('../jieba_data/dict.txt.big')\n",
    "jieba.load_userdict('../jieba_data/userdict.txt')\n",
    "\n",
    "# 建立stopwords列表\n",
    "stopwords = []\n",
    "with open('../jieba_data/stopwords.txt', 'r', encoding='UTF-8') as file:\n",
    "    for each in file.readlines():\n",
    "        stopwords.append(each.strip())\n",
    "    stopwords.append(' ')"
   ]
  },
  {
   "cell_type": "code",
   "execution_count": 5,
   "metadata": {},
   "outputs": [],
   "source": [
    "# 將每篇新聞清理、斷詞，統計詞頻\n",
    "for i in range(len(data)):\n",
    "    current_content = data[i]['content']\n",
    "    current_cutted = jieba.lcut(remove_punctuation(current_content))\n",
    "    data[i]['cutted_dict'] = lcut_to_dict(current_cutted)\n",
    "    "
   ]
  },
  {
   "cell_type": "code",
   "execution_count": 6,
   "metadata": {},
   "outputs": [
    {
     "data": {
      "text/plain": [
       "[('68', 1002),\n",
       " ('）日', 333),\n",
       " ('今（', 330),\n",
       " ('都是', 253),\n",
       " ('台灣的', 236),\n",
       " ('也是', 207),\n",
       " ('8月', 194),\n",
       " ('（）', 182),\n",
       " ('為了', 181),\n",
       " ('的人', 179)]"
      ]
     },
     "execution_count": 6,
     "metadata": {},
     "output_type": "execute_result"
    }
   ],
   "source": [
    "# 找出常一起出現的詞彙\n",
    "get_coshow(contents[:1000])[:10]"
   ]
  },
  {
   "cell_type": "code",
   "execution_count": 7,
   "metadata": {},
   "outputs": [
    {
     "data": {
      "text/plain": [
       "[('台灣', 1789),\n",
       " ('中國', 1014),\n",
       " ('國民黨', 903),\n",
       " ('柯文哲', 836),\n",
       " ('民進黨', 640),\n",
       " ('指出', 597),\n",
       " ('媒體', 553),\n",
       " ('希望', 543),\n",
       " ('一個', 446),\n",
       " ('政府', 445),\n",
       " ('蔡英文', 435),\n",
       " ('政策', 425),\n",
       " ('支持', 411),\n",
       " ('提供', 401),\n",
       " ('國家', 401),\n",
       " ('未來', 401),\n",
       " ('姚文智', 376),\n",
       " ('選舉', 371),\n",
       " ('提出', 369),\n",
       " ('市長', 369),\n",
       " ('市府', 347),\n",
       " ('活動', 347),\n",
       " ('國際', 346),\n",
       " ('政治', 343),\n",
       " ('總統', 336),\n",
       " ('針對', 336),\n",
       " ('台北', 321),\n",
       " ('蘇貞昌', 320),\n",
       " ('臉書', 318),\n",
       " ('議員', 315)]"
      ]
     },
     "execution_count": 7,
     "metadata": {},
     "output_type": "execute_result"
    }
   ],
   "source": [
    "#把前1000篇新聞清理、斷詞、統計詞頻，找出詞頻前20高的詞為high_freq_pair\n",
    "cutted_dict = get_cutted_dict(contents[:1000])\n",
    "high_freq_pair = first_n_words(cutted_dict, 30)\n",
    "high_freq_pair"
   ]
  },
  {
   "cell_type": "code",
   "execution_count": 8,
   "metadata": {},
   "outputs": [],
   "source": [
    "# 把全部新聞清理、斷詞、統計詞頻\n",
    "cutted_dict = get_cutted_dict(contents)"
   ]
  },
  {
   "cell_type": "code",
   "execution_count": 9,
   "metadata": {},
   "outputs": [
    {
     "data": {
      "text/plain": [
       "[('民進黨', 8663),\n",
       " ('柯文哲', 8359),\n",
       " ('國民黨', 8188),\n",
       " ('韓國瑜', 8007),\n",
       " ('陳其邁', 4266),\n",
       " ('蔡英文', 4011),\n",
       " ('蘇貞昌', 3261),\n",
       " ('候選人', 2955),\n",
       " ('姚文智', 2456),\n",
       " ('賴清德', 2202)]"
      ]
     },
     "execution_count": 9,
     "metadata": {},
     "output_type": "execute_result"
    }
   ],
   "source": [
    "# 用first_n_words找出可能人名(詞長為3個字)\n",
    "possible_name = first_n_words(cutted_dict, 1000, 3, 3)\n",
    "possible_name[:10]"
   ]
  },
  {
   "cell_type": "code",
   "execution_count": 10,
   "metadata": {},
   "outputs": [
    {
     "data": {
      "text/plain": [
       "[('台北市長柯文哲', 1557),\n",
       " ('總統蔡英文', 1410),\n",
       " ('九二共識', 1136),\n",
       " ('時代力量', 1097),\n",
       " ('立委補選', 1090),\n",
       " ('中華民國', 950),\n",
       " ('2020', 918),\n",
       " ('行政院長賴清德', 865),\n",
       " ('轉型正義', 814),\n",
       " ('競選總部', 766)]"
      ]
     },
     "execution_count": 10,
     "metadata": {},
     "output_type": "execute_result"
    }
   ],
   "source": [
    "# 用first_n_words找出可能事件(詞長大於4個字)\n",
    "possible_events = first_n_words(cutted_dict, 200, 4)\n",
    "possible_events[:10]"
   ]
  },
  {
   "cell_type": "markdown",
   "metadata": {},
   "source": [
    "### 載入人名、事件"
   ]
  },
  {
   "cell_type": "code",
   "execution_count": 11,
   "metadata": {},
   "outputs": [],
   "source": [
    "# 從外部檔案讀入政治人物名字\n",
    "names = []\n",
    "with open('../data/names.txt', 'r', encoding='utf-8-sig') as f:\n",
    "    names = f.read().split('\\n')\n",
    "# 從外部檔案讀入政治事件    \n",
    "events = []\n",
    "with open('../data/events.txt', 'r', encoding='utf-8-sig') as f:\n",
    "    events = f.read().split('\\n')"
   ]
  },
  {
   "cell_type": "code",
   "execution_count": 12,
   "metadata": {
    "scrolled": true
   },
   "outputs": [
    {
     "name": "stdout",
     "output_type": "stream",
     "text": [
      "柯文哲 韓國瑜 陳其邁 蔡英文 蘇貞昌\n",
      "九二共識 兩岸關係 轉型正義 立委補選 九合一選舉\n"
     ]
    }
   ],
   "source": [
    "# 看一下內容\n",
    "print(' '.join(names[:5]))\n",
    "print(' '.join(events[:5]))"
   ]
  }
 ],
 "metadata": {
  "kernelspec": {
   "display_name": "Python 3",
   "language": "python",
   "name": "python3"
  },
  "language_info": {
   "codemirror_mode": {
    "name": "ipython",
    "version": 3
   },
   "file_extension": ".py",
   "mimetype": "text/x-python",
   "name": "python",
   "nbconvert_exporter": "python",
   "pygments_lexer": "ipython3",
   "version": "3.6.5"
  }
 },
 "nbformat": 4,
 "nbformat_minor": 2
}
