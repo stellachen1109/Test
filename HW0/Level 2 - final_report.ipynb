{
 "cells": [
  {
   "cell_type": "markdown",
   "metadata": {},
   "source": [
    "# 主題：政治新聞資料分析\n",
    "- 組員：王冠人、萬俊彥、廖品琪\n",
    "- 時間：2019/01/29"
   ]
  },
  {
   "cell_type": "markdown",
   "metadata": {},
   "source": [
    "## 研究目標\n",
    "考量臺灣社會政治冷感的現狀，提供一個較為客觀的資料統整，藉由日常生活中的事件觀察政治人物的網路聲量變化，作為一種參與政治的方式。"
   ]
  },
  {
   "cell_type": "markdown",
   "metadata": {},
   "source": [
    "## 研究方法\n",
    "1. 爬蟲搜尋網路新聞\n",
    "2. 進行資料清理及資料分析\n",
    "4. 視覺化呈現研究結果"
   ]
  },
  {
   "cell_type": "markdown",
   "metadata": {},
   "source": [
    "## 研究內容及結果"
   ]
  },
  {
   "cell_type": "markdown",
   "metadata": {},
   "source": [
    "# Part I 爬蟲"
   ]
  },
  {
   "cell_type": "markdown",
   "metadata": {},
   "source": [
    "- [新頭殼新聞爬蟲](https://github.com/MiccWan/Political-News-Analysis/blob/master/crawler/new_talk_crawler.ipynb)\n",
    "- [自由時報新聞爬蟲](https://github.com/MiccWan/Political-News-Analysis/blob/master/crawler/liberty_times_crawler.ipynb)"
   ]
  },
  {
   "cell_type": "markdown",
   "metadata": {},
   "source": [
    "#  Part II 資料清洗及分析"
   ]
  },
  {
   "cell_type": "code",
   "execution_count": 1,
   "metadata": {},
   "outputs": [],
   "source": [
    "import os\n",
    "import pickle\n",
    "import jieba\n",
    "import operator\n",
    "import statistics\n",
    "import pandas as pd\n",
    "import numpy as np\n",
    "import matplotlib.pyplot as plt\n",
    "import matplotlib.font_manager as font_manager\n",
    "from datetime import datetime\n",
    "from collections import Counter\n",
    "\n",
    "from wordcloud import WordCloud, STOPWORDS, ImageColorGenerator\n",
    "from PIL import Image\n",
    "\n",
    "from modules import *\n",
    "\n",
    "# 載入外部字型\n",
    "font_path = '../tools/msjh.ttc'\n",
    "font = font_manager.FontProperties(fname='../tools/msjh.ttc',\n",
    "                                   weight='bold',\n",
    "                                   style='normal', size=16)"
   ]
  },
  {
   "cell_type": "markdown",
   "metadata": {},
   "source": [
    "### 載入新聞資料"
   ]
  },
  {
   "cell_type": "code",
   "execution_count": 2,
   "metadata": {},
   "outputs": [],
   "source": [
    "# 讀取先前爬好的新頭殼新聞文字稿\n",
    "with open('../crawler/data/new_talk.pkl', 'rb') as f:\n",
    "    data = pickle.load(f)\n",
    "\n",
    "# 將新聞的順序倒序\n",
    "data = data[::-1]\n",
    "\n",
    "# 將新聞的內容彙整成列表\n",
    "contents = [news['content'] for news in data]"
   ]
  },
  {
   "cell_type": "markdown",
   "metadata": {},
   "source": [
    "### 使用 coshow 找出新詞 -> 自定義辭典"
   ]
  },
  {
   "cell_type": "code",
   "execution_count": 3,
   "metadata": {
    "scrolled": true
   },
   "outputs": [
    {
     "name": "stderr",
     "output_type": "stream",
     "text": [
      "Building prefix dict from the default dictionary ...\n",
      "Loading model from cache C:\\Users\\Stella\\AppData\\Local\\Temp\\jieba.cache\n",
      "Loading model cost 0.923 seconds.\n",
      "Prefix dict has been built succesfully.\n"
     ]
    },
    {
     "data": {
      "text/plain": [
       "[('68', 1002),\n",
       " ('蔡英文', 775),\n",
       " ('民進黨', 609),\n",
       " ('對於', 577),\n",
       " ('柯文哲', 547),\n",
       " ('台北市長', 388),\n",
       " ('沒有', 312),\n",
       " ('）日', 279),\n",
       " ('長參選人', 257),\n",
       " ('記者會', 254)]"
      ]
     },
     "execution_count": 3,
     "metadata": {},
     "output_type": "execute_result"
    }
   ],
   "source": [
    "# 用get_coshow把新聞內容前1000篇進行清理與分詞，並統計詞頻\n",
    "get_coshow(contents[:1000])[:10]"
   ]
  },
  {
   "cell_type": "markdown",
   "metadata": {},
   "source": [
    "### 設定繁體中文斷詞、載入自訂辭典、stopwords"
   ]
  },
  {
   "cell_type": "code",
   "execution_count": 4,
   "metadata": {},
   "outputs": [
    {
     "name": "stderr",
     "output_type": "stream",
     "text": [
      "Building prefix dict from C:\\Users\\Stella\\Desktop\\假D槽\\碩一課程\\下學期\\金融科技與文字探勘\\Political-News-Analysis-master\\jieba_data\\dict.txt.big ...\n",
      "Loading model from cache C:\\Users\\Stella\\AppData\\Local\\Temp\\jieba.ue9f15f1f7a27a2a408ab3f5b910b0d6a.cache\n",
      "Loading model cost 1.558 seconds.\n",
      "Prefix dict has been built succesfully.\n"
     ]
    }
   ],
   "source": [
    "# 載入外部辭典與自訂辭典\n",
    "jieba.set_dictionary('../jieba_data/dict.txt.big')\n",
    "jieba.load_userdict('../jieba_data/userdict.txt')\n",
    "\n",
    "# 建立stopwords列表\n",
    "stopwords = []\n",
    "with open('../jieba_data/stopwords.txt', 'r', encoding='UTF-8') as file:\n",
    "    for each in file.readlines():\n",
    "        stopwords.append(each.strip())\n",
    "    stopwords.append(' ')"
   ]
  },
  {
   "cell_type": "code",
   "execution_count": 5,
   "metadata": {},
   "outputs": [],
   "source": [
    "# 將每篇新聞清理、斷詞，統計詞頻\n",
    "for i in range(len(data)):\n",
    "    current_content = data[i]['content']\n",
    "    current_cutted = jieba.lcut(remove_punctuation(current_content))\n",
    "    data[i]['cutted_dict'] = lcut_to_dict(current_cutted)\n",
    "    "
   ]
  },
  {
   "cell_type": "code",
   "execution_count": 6,
   "metadata": {},
   "outputs": [
    {
     "data": {
      "text/plain": [
       "[('68', 1002),\n",
       " ('）日', 333),\n",
       " ('今（', 330),\n",
       " ('都是', 253),\n",
       " ('台灣的', 236),\n",
       " ('也是', 207),\n",
       " ('8月', 194),\n",
       " ('（）', 182),\n",
       " ('為了', 181),\n",
       " ('的人', 179)]"
      ]
     },
     "execution_count": 6,
     "metadata": {},
     "output_type": "execute_result"
    }
   ],
   "source": [
    "# 找出常一起出現的詞彙\n",
    "get_coshow(contents[:1000])[:10]"
   ]
  },
  {
   "cell_type": "code",
   "execution_count": 7,
   "metadata": {},
   "outputs": [
    {
     "data": {
      "text/plain": [
       "[('台灣', 1789),\n",
       " ('中國', 1014),\n",
       " ('國民黨', 903),\n",
       " ('柯文哲', 836),\n",
       " ('民進黨', 640),\n",
       " ('指出', 597),\n",
       " ('媒體', 553),\n",
       " ('希望', 543),\n",
       " ('一個', 446),\n",
       " ('政府', 445),\n",
       " ('蔡英文', 435),\n",
       " ('政策', 425),\n",
       " ('支持', 411),\n",
       " ('提供', 401),\n",
       " ('國家', 401),\n",
       " ('未來', 401),\n",
       " ('姚文智', 376),\n",
       " ('選舉', 371),\n",
       " ('提出', 369),\n",
       " ('市長', 369)]"
      ]
     },
     "execution_count": 7,
     "metadata": {},
     "output_type": "execute_result"
    }
   ],
   "source": [
    "#把前1000篇新聞清理、斷詞、統計詞頻，找出詞頻前20高的詞為high_freq_pair\n",
    "cutted_dict = get_cutted_dict(contents[:1000])\n",
    "high_freq_pair = first_n_words(cutted_dict, 20)\n",
    "high_freq_pair"
   ]
  },
  {
   "cell_type": "code",
   "execution_count": 8,
   "metadata": {},
   "outputs": [],
   "source": [
    "# 把全部新聞清理、斷詞、統計詞頻\n",
    "cutted_dict = get_cutted_dict(contents)"
   ]
  },
  {
   "cell_type": "code",
   "execution_count": 9,
   "metadata": {},
   "outputs": [
    {
     "data": {
      "text/plain": [
       "[('民進黨', 8663),\n",
       " ('柯文哲', 8359),\n",
       " ('國民黨', 8188),\n",
       " ('韓國瑜', 8007),\n",
       " ('陳其邁', 4266),\n",
       " ('蔡英文', 4011),\n",
       " ('蘇貞昌', 3261),\n",
       " ('候選人', 2955),\n",
       " ('姚文智', 2456),\n",
       " ('賴清德', 2202)]"
      ]
     },
     "execution_count": 9,
     "metadata": {},
     "output_type": "execute_result"
    }
   ],
   "source": [
    "# 用first_n_words找出可能人名(詞長為3個字)\n",
    "possible_name = first_n_words(cutted_dict, 1000, 3, 3)\n",
    "possible_name[:10]"
   ]
  },
  {
   "cell_type": "code",
   "execution_count": 10,
   "metadata": {},
   "outputs": [
    {
     "data": {
      "text/plain": [
       "[('台北市長柯文哲', 1557),\n",
       " ('總統蔡英文', 1410),\n",
       " ('九二共識', 1136),\n",
       " ('時代力量', 1097),\n",
       " ('立委補選', 1090),\n",
       " ('中華民國', 950),\n",
       " ('2020', 918),\n",
       " ('行政院長賴清德', 865),\n",
       " ('轉型正義', 814),\n",
       " ('競選總部', 766)]"
      ]
     },
     "execution_count": 10,
     "metadata": {},
     "output_type": "execute_result"
    }
   ],
   "source": [
    "# 用first_n_words找出可能事件(詞長大於4個字)\n",
    "possible_events = first_n_words(cutted_dict, 200, 4)\n",
    "possible_events[:10]"
   ]
  },
  {
   "cell_type": "markdown",
   "metadata": {},
   "source": [
    "### 載入人名、事件"
   ]
  },
  {
   "cell_type": "code",
   "execution_count": 11,
   "metadata": {},
   "outputs": [],
   "source": [
    "# 從外部檔案讀入政治人物名字\n",
    "names = []\n",
    "with open('../data/names.txt', 'r', encoding='utf-8-sig') as f:\n",
    "    names = f.read().split('\\n')\n",
    "# 從外部檔案讀入政治事件    \n",
    "events = []\n",
    "with open('../data/events.txt', 'r', encoding='utf-8-sig') as f:\n",
    "    events = f.read().split('\\n')"
   ]
  },
  {
   "cell_type": "code",
   "execution_count": 12,
   "metadata": {
    "scrolled": true
   },
   "outputs": [
    {
     "name": "stdout",
     "output_type": "stream",
     "text": [
      "柯文哲 韓國瑜 陳其邁 蔡英文 蘇貞昌\n",
      "九二共識 兩岸關係 轉型正義 立委補選 九合一選舉\n"
     ]
    }
   ],
   "source": [
    "# 看一下內容\n",
    "print(' '.join(names[:5]))\n",
    "print(' '.join(events[:5]))"
   ]
  },
  {
   "cell_type": "code",
   "execution_count": null,
   "metadata": {},
   "outputs": [],
   "source": [
    "# 每日詞頻\n",
    "tf_by_day = {}\n",
    "for i in range(len(date_index)-1):\n",
    "    oneday_news = data[date_index[i]: date_index[i+1]]\n",
    "    oneday_dict = [news['cutted_dict'] for news in oneday_news]\n",
    "    current_word_dict = merge_one_day_news_dict(oneday_dict, divide=number_of_terms[i])\n",
    "#     print(all_date[i])\n",
    "    tf_by_day[all_date[i]] = current_word_dict"
   ]
  },
  {
   "cell_type": "code",
   "execution_count": null,
   "metadata": {},
   "outputs": [],
   "source": [
    "# 每天出現的字\n",
    "occur_by_day = {}\n",
    "for i in range(len(date_index)-1):\n",
    "    oneday_news = data[date_index[i]: date_index[i+1]]\n",
    "    oneday_dict = [news['cutted_dict'] for news in oneday_news]\n",
    "    current_word_dict = merge_one_day_news_dict(oneday_dict, count='occur', divide=number_of_news[i])\n",
    "#     print(all_date[i])\n",
    "    occur_by_day[all_date[i]] = current_word_dict"
   ]
  },
  {
   "cell_type": "code",
   "execution_count": null,
   "metadata": {},
   "outputs": [],
   "source": [
    "df = pd.DataFrame(wn_by_day)\n",
    "df = df.fillna(0)\n",
    "\n",
    "df_tf = pd.DataFrame(tf_by_day)\n",
    "df_tf = df_tf.fillna(0)\n",
    "\n",
    "df_occur = pd.DataFrame(occur_by_day)\n",
    "df_occur = df_occur.fillna(0)"
   ]
  },
  {
   "cell_type": "markdown",
   "metadata": {},
   "source": [
    "### 畫圖"
   ]
  },
  {
   "cell_type": "code",
   "execution_count": null,
   "metadata": {},
   "outputs": [],
   "source": [
    "# word times\n",
    "plt.figure(figsize=(20,6))\n",
    "plt.plot(aall_date[147:], df.loc['蔡英文']['2018-11-01':], label='蔡英文')\n",
    "plt.xticks(list(range(0, 80, 4)), [aall_date[-150::-1][i] for i in range(0, 80, 4)])\n",
    "plt.show()"
   ]
  },
  {
   "cell_type": "code",
   "execution_count": null,
   "metadata": {},
   "outputs": [],
   "source": [
    "plt.figure(figsize=(20,12))\n",
    "\n",
    "font = font_manager.FontProperties(fname='../msjh.ttc',\n",
    "                               weight='bold',\n",
    "                               style='normal', size=16)\n",
    "\n",
    "plt.subplot(221)\n",
    "plt.plot(aall_date[147:], df_tf.loc['蔡英文']['2018-11-01':], label='蔡英文')\n",
    "plt.xticks(list(range(0, 80, 4)), [aall_date[-150::-1][i] for i in range(0, 80, 4)])\n",
    "plt.legend(prop=font)\n",
    "plt.xlabel('tf')\n",
    "\n",
    "plt.subplot(222)\n",
    "plt.plot(aall_date[147:], df_occur.loc['蔡英文']['2018-11-01':], label='蔡英文')\n",
    "plt.xticks(list(range(0, 80, 4)), [aall_date[-150::-1][i] for i in range(0, 80, 4)])\n",
    "plt.legend(prop=font)\n",
    "plt.xlabel('df')\n",
    "\n",
    "plt.subplot(212)\n",
    "plt.plot(aall_date[147:], df_occur.loc['蔡英文']['2018-11-01':]*df_tf.loc['蔡英文']['2018-11-01':], label='蔡英文')\n",
    "plt.xticks(list(range(0, 80, 4)), [aall_date[-150::-1][i] for i in range(0, 80, 4)])\n",
    "plt.legend(prop=font)\n",
    "plt.xlabel('tfdf')\n",
    "\n",
    "plt.show()"
   ]
  },
  {
   "cell_type": "code",
   "execution_count": null,
   "metadata": {},
   "outputs": [],
   "source": [
    "def plot_tfdf_of_word(word, df_tf, df_occur, date_from='2018-06-07', date_to='2019-01-22'):\n",
    "    from_index = df_tf.columns.get_loc(date_from)\n",
    "    to_index = df_tf.columns.get_loc(date_to)+1\n",
    "    date_length = to_index-from_index\n",
    "    date_int = date_length//25\n",
    "    font = font_manager.FontProperties(fname='../msjh.ttc',\n",
    "                                   weight='bold',\n",
    "                                   style='normal', size=16)\n",
    "    \n",
    "    plt.plot(aall_date[from_index:to_index], \n",
    "             df_tf.loc[word][date_from:date_to]*df_occur.loc[word][date_from:date_to], '-o', label=word)\n",
    "    plt.legend(prop=font)\n",
    "    plt.xticks(list(range(0, date_length, date_int)), [aall_date[from_index:to_index][i] for i in range(0, date_length, date_int)])"
   ]
  },
  {
   "cell_type": "code",
   "execution_count": null,
   "metadata": {},
   "outputs": [],
   "source": [
    "plt.figure(figsize=(20,6))\n",
    "\n",
    "plot_tfdf_of_word('九二共識', df_tf, df_occur, date_from='2018-11-01', date_to='2019-01-01')\n",
    "plot_tfdf_of_word('蔡英文', df_tf, df_occur, date_from='2018-11-01', date_to='2019-01-01')\n",
    "\n",
    "plt.grid()\n",
    "plt.show()"
   ]
  },
  {
   "cell_type": "markdown",
   "metadata": {},
   "source": [
    "### 大事件被討論的時間區段與聲量"
   ]
  },
  {
   "cell_type": "code",
   "execution_count": null,
   "metadata": {},
   "outputs": [],
   "source": [
    "def get_high_tfdf_date(word, df_tf, df_occur):\n",
    "    tfdf = get_tfdf(word, df_tf, df_occur)\n",
    "    m = statistics.mean(tfdf)\n",
    "    s = statistics.stdev(tfdf)\n",
    "    tfdf_bool = [x > m+s for x in tfdf]\n",
    "    tfdf_date = {all_date[x[0]]: tfdf[x[0]] for x in list(filter(lambda e: e[1], enumerate(tfdf_bool)))}\n",
    "    return tfdf_date\n",
    "\n",
    "def draw_event(event, i, df_tf, df_occur):\n",
    "    event_date = get_high_tfdf_date(event, df_tf, df_occur)\n",
    "    date_index = [all_date.index(x) for x in event_date.keys()]\n",
    "    plt.scatter(date_index, [i for x in date_index], s=[x*100000 for x in list(event_date.values())])"
   ]
  },
  {
   "cell_type": "code",
   "execution_count": null,
   "metadata": {},
   "outputs": [],
   "source": [
    "event_high_tfdf_dict = {e: get_high_tfdf_date(e, df_tf, df_occur) for e in events}\n",
    "event_high_tfdf_dict['九二共識']"
   ]
  },
  {
   "cell_type": "code",
   "execution_count": null,
   "metadata": {},
   "outputs": [],
   "source": [
    "plt.figure(figsize=(20, 10))\n",
    "for (i, e) in enumerate(events):\n",
    "    draw_event(e, i, df_tf, df_occur)\n",
    "# plt.xticks(range(0, 230), all_date)\n",
    "plt.xticks(list(range(0, 230, 7)), [aall_date[i] for i in range(0, 230, 7)])\n",
    "plt.yticks(range(0, 32), events, fontproperties=font)\n",
    "\n",
    "plt.grid()\n",
    "plt.show()"
   ]
  },
  {
   "cell_type": "code",
   "execution_count": null,
   "metadata": {},
   "outputs": [],
   "source": [
    "# each event with tfdf of related people\n",
    "event_people_dict = {}\n",
    "for event in events:\n",
    "    event_data = data_containing_keyword(event, data)\n",
    "    # event_data[0]\n",
    "    name_times_of_date = {}\n",
    "    for date in all_date:\n",
    "        oneday_data = list(filter(lambda data: data['date']==date, event_data))\n",
    "        oneday_dict = [news['cutted_dict'] for news in oneday_data]\n",
    "        current_word_dict = merge_one_day_news_dict(oneday_dict, 'wt', divide=len(oneday_data))\n",
    "        possible_name = first_n_words(current_word_dict, 10000, 3, 3)\n",
    "        name_times_of_date[date]= list(filter(lambda x: x[0] in names, possible_name))\n",
    "\n",
    "    all_names = set([name for name_list in name_times_of_date.values() for (name, times) in name_list])\n",
    "    event_people_dict[event] = {name: [dict(name_times_of_date[date]).get(name, 0) for date in all_date] for name in all_names}\n",
    "    \n",
    "# with open('../data/event_people_dict.json', 'w', encoding='utf-8') as j:\n",
    "#     json.dump(event_people_dict, j)"
   ]
  },
  {
   "cell_type": "code",
   "execution_count": null,
   "metadata": {},
   "outputs": [],
   "source": [
    "pd.DataFrame(event_people_dict).T.head(3)"
   ]
  },
  {
   "cell_type": "code",
   "execution_count": null,
   "metadata": {},
   "outputs": [],
   "source": [
    "people_tfdf_dict = {name: list(get_tfdf(name, df_tf, df_occur)) for name in names}"
   ]
  },
  {
   "cell_type": "code",
   "execution_count": null,
   "metadata": {},
   "outputs": [],
   "source": [
    "pd.DataFrame(people_tfdf_dict, index=aall_date).T.head(4)"
   ]
  },
  {
   "cell_type": "markdown",
   "metadata": {},
   "source": [
    "# Part III 視覺化呈現研究結果"
   ]
  },
  {
   "cell_type": "code",
   "execution_count": null,
   "metadata": {},
   "outputs": [],
   "source": [
    "# import packages\n",
    "import math\n",
    "import numpy as np\n",
    "import plotly.plotly as py\n",
    "import plotly.graph_objs as go\n",
    "import ipywidgets as widgets\n",
    "from IPython.display import clear_output\n",
    "from datetime import datetime, timedelta\n",
    "import json"
   ]
  },
  {
   "cell_type": "markdown",
   "metadata": {},
   "source": [
    "#### Section I 政治事件網路聲量分析"
   ]
  },
  {
   "cell_type": "code",
   "execution_count": null,
   "metadata": {},
   "outputs": [],
   "source": [
    "def get_scatter_trace(points_x, points_y, points_size=10, trace_name='', line=False):\n",
    "    if line:\n",
    "        return go.Scatter(\n",
    "            x = points_x,\n",
    "            y = points_y,\n",
    "            mode = 'lines',\n",
    "            hoverinfo = 'x+y',\n",
    "            name\n",
    "            = trace_name,\n",
    "            text = points_size,\n",
    "            yaxis = 'y2',\n",
    "            line = {\n",
    "                \"color\": 'rgba(255, 166, 87, 0.4)'\n",
    "            }\n",
    "        )\n",
    "    else:\n",
    "        return go.Scatter(\n",
    "            x = points_x,\n",
    "            y = points_y,\n",
    "            mode = 'markers' if not line else 'lines',\n",
    "            marker = {\n",
    "                'size': points_size\n",
    "            },\n",
    "            hoverinfo = 'text+name',\n",
    "            name = trace_name,\n",
    "            text = points_size\n",
    "        )"
   ]
  },
  {
   "cell_type": "code",
   "execution_count": null,
   "metadata": {},
   "outputs": [],
   "source": [
    "events = json.loads(open('../data/event_tfdf_dict.json').read())"
   ]
  },
  {
   "cell_type": "code",
   "execution_count": null,
   "metadata": {},
   "outputs": [],
   "source": [
    "def sectionI_plot(ori_data, title=''):\n",
    "    \n",
    "    # data\n",
    "    fig_data = []\n",
    "    for index, name in enumerate(ori_data):\n",
    "        x, y, size = [], [], []\n",
    "        for date, tfdf_val in ori_data[name].items():\n",
    "            x.append(datetime.strptime(date, \"%Y-%m-%d\"))\n",
    "            y.append(len(ori_data) - index)\n",
    "            size.append(max(math.log(round(tfdf_val*10000, 2))*10, 0)) # constants need change\n",
    "        fig_data.append(get_scatter_trace(x, y, points_size=size, trace_name=name))\n",
    "        \n",
    "    # layout\n",
    "    fig_layout = go.Layout(\n",
    "        title=title,\n",
    "        xaxis=dict(\n",
    "            title='Date'\n",
    "        ),\n",
    "        yaxis=dict(\n",
    "            title='Event'\n",
    "        )\n",
    "    )\n",
    "\n",
    "    fig = go.Figure(data=fig_data, layout=fig_layout)\n",
    "    display(py.iplot(fig, filename='bubble-event'))"
   ]
  },
  {
   "cell_type": "code",
   "execution_count": null,
   "metadata": {},
   "outputs": [],
   "source": [
    "sectionI_plot(events)"
   ]
  },
  {
   "cell_type": "markdown",
   "metadata": {},
   "source": [
    "#### Section II 事件相關人聲量分析"
   ]
  },
  {
   "cell_type": "code",
   "execution_count": null,
   "metadata": {},
   "outputs": [],
   "source": [
    "event_people_relation = json.loads(open('../data/event_people_dict.json').read())"
   ]
  },
  {
   "cell_type": "code",
   "execution_count": null,
   "metadata": {},
   "outputs": [],
   "source": [
    "def sectionII_plot(event_name, ori_data, selector_widget, start_date='2018-06-07', title=''):\n",
    "    start_date = datetime.strptime(start_date, \"%Y-%m-%d\")\n",
    "    \n",
    "    # data\n",
    "    fig_data = []\n",
    "    x, y, size = [], [], []\n",
    "    for date, tfdf_val in events[event_name].items():\n",
    "        x.append(datetime.strptime(date, \"%Y-%m-%d\"))\n",
    "        y.append(len(ori_data) + 1)\n",
    "        size.append(max(math.log(round(tfdf_val*10000, 2))*10, 0)) # constants need change\n",
    "    fig_data.append(get_scatter_trace(x, y, points_size=size, trace_name=event_name))\n",
    "        \n",
    "    for index, name in enumerate(ori_data):\n",
    "        x, y, size = [], [], []\n",
    "        for day_index, tfdf_val in enumerate(ori_data[name]):\n",
    "            if tfdf_val != 0:\n",
    "                x.append(start_date + timedelta(days=day_index))\n",
    "                y.append(len(ori_data) - index)\n",
    "                size.append(max(math.log(round(tfdf_val, 2))*10,0)) ## constants need change\n",
    "        fig_data.append(get_scatter_trace(x, y, points_size=size, trace_name=name))\n",
    "        \n",
    "    # layout\n",
    "    fig_layout = go.Layout(\n",
    "        title=title,\n",
    "        xaxis=dict(\n",
    "            title='Date'\n",
    "        ),\n",
    "        yaxis=dict(\n",
    "            title='People'\n",
    "        )\n",
    "    )\n",
    "\n",
    "    fig = go.Figure(data=fig_data, layout=fig_layout)\n",
    "\n",
    "    clear_output()\n",
    "    display(selector_widget)\n",
    "    display(py.iplot(fig, filename='event-people'))\n"
   ]
  },
  {
   "cell_type": "code",
   "execution_count": null,
   "metadata": {},
   "outputs": [],
   "source": [
    "event_selector = widgets.Dropdown(\n",
    "    options=list(events.keys()),\n",
    "    description='政治事件：'\n",
    ")\n",
    "display(event_selector)\n",
    "\n",
    "def event_change(change):\n",
    "    top_10_related_people = dict(sorted(event_people_relation[change['new']].items(), key=lambda x: sum(x[1]), reverse=True)[:10])\n",
    "    sectionII_plot(change['new'], top_10_related_people, event_selector, title=change['new'])\n",
    "\n",
    "event_change({'new': list(events.keys())[0]})\n",
    "    \n",
    "event_selector.observe(event_change, names='value')"
   ]
  },
  {
   "cell_type": "markdown",
   "metadata": {},
   "source": [
    "#### Section III 人物聲量與事件疊圖分析"
   ]
  },
  {
   "cell_type": "code",
   "execution_count": null,
   "metadata": {},
   "outputs": [],
   "source": [
    "people = json.loads(open('../data/people_tfdf_dict.json').read())"
   ]
  },
  {
   "cell_type": "code",
   "execution_count": null,
   "metadata": {},
   "outputs": [],
   "source": [
    "def sectionIII_plot(people_data, events_data, selector_widget, start_date='2018-06-07', title=''):\n",
    "    start_date = datetime.strptime(start_date, \"%Y-%m-%d\")\n",
    "    \n",
    "    fig_data = []\n",
    "    \n",
    "    # people data\n",
    "    x, y = [], []\n",
    "    for day_index, value in enumerate(people_data['tfdf']):\n",
    "        x.append(start_date + timedelta(days=day_index))\n",
    "        y.append(value)\n",
    "    fig_data.append(get_scatter_trace(x, y, line=True))\n",
    "    \n",
    "    # event data\n",
    "    for index, name in enumerate(events_data):\n",
    "        x, y, size = [], [], []\n",
    "        for date, tfdf_val in events_data[name].items():\n",
    "            x.append(datetime.strptime(date, \"%Y-%m-%d\"))\n",
    "            y.append(len(events_data) - index)\n",
    "            size.append(max(math.log(round(tfdf_val*10000, 2))*10, 0)) # constants need change\n",
    "        fig_data.append(get_scatter_trace(x, y, size, trace_name=name))\n",
    "        \n",
    "    # layout\n",
    "    fig_layout = go.Layout(\n",
    "        title=title,\n",
    "        xaxis=dict(\n",
    "            title='Date'\n",
    "        ),\n",
    "        yaxis=dict(\n",
    "            title='Event'\n",
    "        ),\n",
    "        yaxis2=dict(\n",
    "            title='People Reputation',\n",
    "            titlefont=dict(\n",
    "                color='rgb(148, 103, 189)'\n",
    "            ),\n",
    "            tickfont=dict(\n",
    "                color='rgb(148, 103, 189)'\n",
    "            ),\n",
    "            overlaying='y',\n",
    "            side='right'\n",
    "        )\n",
    "    )\n",
    "\n",
    "    fig = go.Figure(data=fig_data, layout=fig_layout)\n",
    "    \n",
    "    clear_output()\n",
    "    display(selector_widget)\n",
    "    display(py.iplot(fig, filename='person-events'))"
   ]
  },
  {
   "cell_type": "code",
   "execution_count": null,
   "metadata": {},
   "outputs": [],
   "source": [
    "people_selector = widgets.Dropdown(\n",
    "    options=list(people.keys()),\n",
    "    description='政治人物：'\n",
    ")\n",
    "display(people_selector)\n",
    "\n",
    "def people_change(change):\n",
    "    sectionIII_plot({\n",
    "        'name': change['new'],\n",
    "        'tfdf': people[change['new']]\n",
    "    }, events, people_selector, title='人物與事件聲量圖({})'.format(change['new']))\n",
    "\n",
    "people_change({'new': list(people.keys())[0]})\n",
    "    \n",
    "people_selector.observe(people_change, names='value')\n"
   ]
  },
  {
   "cell_type": "markdown",
   "metadata": {},
   "source": [
    "### Visualization\n",
    "[Section I 政治事件網路聲量分析](https://plot.ly/~a136489/67)\n",
    "\n",
    "[Section II 事件相關人聲量分析](https://plot.ly/~a136489/69/#/)\n",
    "\n",
    "[Section III 人物聲量與事件疊圖分析](https://plot.ly/~a136489/71)\n"
   ]
  }
 ],
 "metadata": {
  "kernelspec": {
   "display_name": "Python 3",
   "language": "python",
   "name": "python3"
  },
  "language_info": {
   "codemirror_mode": {
    "name": "ipython",
    "version": 3
   },
   "file_extension": ".py",
   "mimetype": "text/x-python",
   "name": "python",
   "nbconvert_exporter": "python",
   "pygments_lexer": "ipython3",
   "version": "3.6.5"
  }
 },
 "nbformat": 4,
 "nbformat_minor": 2
}
